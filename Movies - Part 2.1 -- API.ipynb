{
 "cells": [
  {
   "cell_type": "markdown",
   "id": "97a4153a-69bd-48f6-9c01-db2e1d45813c",
   "metadata": {},
   "source": [
    "# Application Programming Interface (API)\n",
    "- Amber Kutscher\n",
    "- Data Enrichment"
   ]
  },
  {
   "attachments": {
    "9f8c8cb0-c05e-4197-bfcd-91e1f5dcfb75.png": {
     "image/png": "[encoded data removed]"
    }
   },
   "cell_type": "markdown",
   "id": "6a6ca5a7-e9e0-4b25-8282-0dc81773dd20",
   "metadata": {},
   "source": [
    "![image.png](attachment:9f8c8cb0-c05e-4197-bfcd-91e1f5dcfb75.png)\n",
    "\n",
    "Data Source: https://datasets.imdbws.com"
   ]
  },
  {
   "cell_type": "markdown",
   "id": "49345191-bc53-4f0e-8d08-8fee5315fe58",
   "metadata": {},
   "source": [
    "## Data Dictionary"
   ]
  },
  {
   "cell_type": "markdown",
   "id": "c58c64d0-2629-4df3-be8a-b06d9ca36d99",
   "metadata": {},
   "source": [
    "**title.akas.tsv.gz**\n",
    "- titleId (string) - a tconst, an alphanumeric unique identifier of the title\n",
    "- ordering (integer) – a number to uniquely identify rows for a given titleId\n",
    "- title (string) – the localized title\n",
    "- region (string) - the region for this version of the title\n",
    "- language (string) - the language of the title\n",
    "- types (array) - Enumerated set of attributes for this alternative title. One or more of the following: \"alternative\", \"dvd\", \"festival\", \"tv\", \"video\", \"working\", \"original\", \"imdbDisplay\". New values may be added in the future without warning\n",
    "- attributes (array) - Additional terms to describe this alternative title, not enumerated\n",
    "- isOriginalTitle (boolean) – 0: not original title; 1: original title\n",
    "\n",
    "**title.basics.tsv.gz**\n",
    "- tconst (string) - alphanumeric unique identifier of the title\n",
    "- titleType (string) – the type/format of the title (e.g. movie, short, tvseries, tvepisode, video, etc)\n",
    "- primaryTitle (string) – the more popular title / the title used by the filmmakers on promotional materials at the point of release\n",
    "- originalTitle (string) - original title, in the original language\n",
    "- isAdult (boolean) - 0: non-adult title; 1: adult title\n",
    "- startYear (YYYY) – represents the release year of a title. In the case of TV Series, it is the series start year\n",
    "- endYear (YYYY) – TV Series end year. ‘\\N’ for all other title types\n",
    "- runtimeMinutes – primary runtime of the title, in minutes\n",
    "- genres (string array) – includes up to three genres associated with the title\n",
    "\n",
    "**title.ratings.tsv.gz**\n",
    "- tconst (string) - alphanumeric unique identifier of the title\n",
    "- averageRating – weighted average of all the individual user ratings\n",
    "- numVotes - number of votes the title has received"
   ]
  },
  {
   "cell_type": "code",
   "execution_count": 28,
   "id": "b760d621-7e7d-4f94-9d3d-fa3a9022322d",
   "metadata": {},
   "outputs": [],
   "source": [
    "# Standard Imports\n",
    "import numpy as np\n",
    "import pandas as pd\n",
    "import matplotlib.pyplot as plt\n",
    "import seaborn as sns\n",
    "import pymysql\n",
    "pymysql.install_as_MySQLdb()\n",
    "from urllib.parse import quote_plus as urlquote\n",
    "\n",
    "# Additional Imports\n",
    "import os, json, math, time, gzip, csv\n",
    "from yelpapi import YelpAPI\n",
    "from tqdm.notebook import tqdm_notebook\n",
    "import tmdbsimple as tmdb"
   ]
  },
  {
   "cell_type": "code",
   "execution_count": 29,
   "id": "bcd72605-5584-4038-b4c4-37bef6a8ab7b",
   "metadata": {},
   "outputs": [
    {
     "data": {
      "text/plain": [
       "dict_keys(['API Key'])"
      ]
     },
     "execution_count": 29,
     "metadata": {},
     "output_type": "execute_result"
    }
   ],
   "source": [
    "with open (r\"\\Users\\amber\\.secret\\tmdb_api.json\") as f:\n",
    "    login = json.load(f)\n",
    "\n",
    "# Display the keys of the loaded dict\n",
    "login.keys()"
   ]
  },
  {
   "cell_type": "code",
   "execution_count": 30,
   "id": "cbc6eb80-7efd-4f29-8124-a4c083a758fa",
   "metadata": {},
   "outputs": [],
   "source": [
    "import tmdbsimple as tmdb\n",
    "tmdb.API_KEY =  login['API Key']"
   ]
  },
  {
   "cell_type": "code",
   "execution_count": 31,
   "id": "b38d706a-45b5-4d57-9fe8-fc92b929fb4f",
   "metadata": {},
   "outputs": [],
   "source": [
    "# Make a movie object using the .Movies function from tmdb\n",
    "movie = tmdb.Movies(603)"
   ]
  },
  {
   "cell_type": "code",
   "execution_count": 32,
   "id": "ddf91fbd-0447-4415-8f48-537088b96061",
   "metadata": {},
   "outputs": [
    {
     "data": {
      "text/plain": [
       "{'adult': False,\n",
       " 'backdrop_path': '/oMsxZEvz9a708d49b6UdZK1KAo5.jpg',\n",
       " 'belongs_to_collection': {'id': 2344,\n",
       "  'name': 'The Matrix Collection',\n",
       "  'poster_path': '/bV9qTVHTVf0gkW0j7p7M0ILD4pG.jpg',\n",
       "  'backdrop_path': '/bRm2DEgUiYciDw3myHuYFInD7la.jpg'},\n",
       " 'budget': 63000000,\n",
       " 'genres': [{'id': 28, 'name': 'Action'},\n",
       "  {'id': 878, 'name': 'Science Fiction'}],\n",
       " 'homepage': 'http://www.warnerbros.com/matrix',\n",
       " 'id': 603,\n",
       " 'imdb_id': 'tt0133093',\n",
       " 'original_language': 'en',\n",
       " 'original_title': 'The Matrix',\n",
       " 'overview': 'Set in the 22nd century, The Matrix tells the story of a computer hacker who joins a group of underground insurgents fighting the vast and powerful computers who now rule the earth.',\n",
       " 'popularity': 82.417,\n",
       " 'poster_path': '/f89U3ADr1oiB1s9GkdPOEpXUk5H.jpg',\n",
       " 'production_companies': [{'id': 79,\n",
       "   'logo_path': '/tpFpsqbleCzEE2p5EgvUq6ozfCA.png',\n",
       "   'name': 'Village Roadshow Pictures',\n",
       "   'origin_country': 'US'},\n",
       "  {'id': 372,\n",
       "   'logo_path': None,\n",
       "   'name': 'Groucho II Film Partnership',\n",
       "   'origin_country': ''},\n",
       "  {'id': 1885,\n",
       "   'logo_path': '/xlvoOZr4s1PygosrwZyolIFe5xs.png',\n",
       "   'name': 'Silver Pictures',\n",
       "   'origin_country': 'US'},\n",
       "  {'id': 174,\n",
       "   'logo_path': '/IuAlhI9eVC9Z8UQWOIDdWRKSEJ.png',\n",
       "   'name': 'Warner Bros. Pictures',\n",
       "   'origin_country': 'US'}],\n",
       " 'production_countries': [{'iso_3166_1': 'US',\n",
       "   'name': 'United States of America'}],\n",
       " 'release_date': '1999-03-30',\n",
       " 'revenue': 463517383,\n",
       " 'runtime': 136,\n",
       " 'spoken_languages': [{'english_name': 'English',\n",
       "   'iso_639_1': 'en',\n",
       "   'name': 'English'}],\n",
       " 'status': 'Released',\n",
       " 'tagline': 'Welcome to the Real World.',\n",
       " 'title': 'The Matrix',\n",
       " 'video': False,\n",
       " 'vote_average': 8.206,\n",
       " 'vote_count': 23813}"
      ]
     },
     "execution_count": 32,
     "metadata": {},
     "output_type": "execute_result"
    }
   ],
   "source": [
    "# Movie objects have a .info dictionary\n",
    "info = movie.info()\n",
    "info"
   ]
  },
  {
   "cell_type": "code",
   "execution_count": 33,
   "id": "bef1df87-5b3a-4ab7-a53c-2f6d9098de39",
   "metadata": {},
   "outputs": [
    {
     "data": {
      "text/plain": [
       "63000000"
      ]
     },
     "execution_count": 33,
     "metadata": {},
     "output_type": "execute_result"
    }
   ],
   "source": [
    "info['budget']"
   ]
  },
  {
   "cell_type": "code",
   "execution_count": 34,
   "id": "6d04adc8-d1ed-45d6-ab72-ae72721aa95a",
   "metadata": {},
   "outputs": [
    {
     "data": {
      "text/plain": [
       "463517383"
      ]
     },
     "execution_count": 34,
     "metadata": {},
     "output_type": "execute_result"
    }
   ],
   "source": [
    "info['revenue']"
   ]
  },
  {
   "cell_type": "code",
   "execution_count": 35,
   "id": "f91ec428-5401-4e02-bd8b-0b0de9f7962c",
   "metadata": {},
   "outputs": [
    {
     "data": {
      "text/plain": [
       "'tt0133093'"
      ]
     },
     "execution_count": 35,
     "metadata": {},
     "output_type": "execute_result"
    }
   ],
   "source": [
    "info['imdb_id']"
   ]
  },
  {
   "cell_type": "code",
   "execution_count": 36,
   "id": "6067919e-04b9-4759-8cdd-2575fff8feff",
   "metadata": {},
   "outputs": [
    {
     "data": {
      "text/plain": [
       "50000000"
      ]
     },
     "execution_count": 36,
     "metadata": {},
     "output_type": "execute_result"
    }
   ],
   "source": [
    "movie = tmdb.Movies('tt1361336')\n",
    "info = movie.info()\n",
    "info['budget']"
   ]
  },
  {
   "cell_type": "code",
   "execution_count": 37,
   "id": "6cd83c0a-85e5-489e-be29-d7e7937fc651",
   "metadata": {},
   "outputs": [
    {
     "name": "stdout",
     "output_type": "stream",
     "text": [
      "PG\n",
      "PG\n",
      "PG\n"
     ]
    }
   ],
   "source": [
    "# Example from package README\n",
    "# Source = https://github.com/celiao/tmdbsimple\n",
    "releases = movie.releases()\n",
    "for c in releases['countries']:\n",
    "    if c['iso_3166_1'] == 'US':\n",
    "        print(c['certification'])"
   ]
  },
  {
   "cell_type": "code",
   "execution_count": 38,
   "id": "7f1e06b5-8f29-4f00-aef2-3fff963feac9",
   "metadata": {},
   "outputs": [],
   "source": [
    "# Get the movie object for the current id\n",
    "movie = tmdb.Movies('tt1361336')\n",
    "# Save the .info .releases dictionaries\n",
    "info = movie.info()\n",
    "releases = movie.releases()\n",
    "# Loop through countries in releases\n",
    "for c in releases['countries']:\n",
    "    # If the country abbreviation==US\n",
    "    if c['iso_3166_1'] == 'US':\n",
    "        # Save a \"certification\" key in the info dict with the certification\n",
    "        info['certification'] = c['certification']"
   ]
  },
  {
   "cell_type": "code",
   "execution_count": 39,
   "id": "238bccd3-2486-484e-b763-ffee80b5f0fd",
   "metadata": {},
   "outputs": [],
   "source": [
    "def get_movie_with_rating(movie_id):\n",
    "    \"\"\"Adapted from source = https://github.com/celiao/tmdbsimple\"\"\"\n",
    "    # Get the movie object for the current id\n",
    "    movie = tmdb.Movies(movie_id)\n",
    "    # Save the .info .releases dictionaries\n",
    "    info = movie.info()\n",
    "    releases = movie.releases()\n",
    "    # Loop through countries in releases\n",
    "    for c in releases['countries']:\n",
    "        # If the country abbreviation==US\n",
    "        if c['iso_3166_1'] == 'US':\n",
    "            # Save a \"certification\" key in info with the certification\n",
    "            info['certification'] = c['certification']\n",
    "    return info"
   ]
  },
  {
   "cell_type": "code",
   "execution_count": 40,
   "id": "4765c723-c70d-40ee-8538-80b1abc72520",
   "metadata": {},
   "outputs": [
    {
     "data": {
      "text/plain": [
       "{'adult': False,\n",
       " 'backdrop_path': '/9BBTo63ANSmhC4e6r62OJFuK2GL.jpg',\n",
       " 'belongs_to_collection': {'id': 86311,\n",
       "  'name': 'The Avengers Collection',\n",
       "  'poster_path': '/yFSIUVTCvgYrpalUktulvk3Gi5Y.jpg',\n",
       "  'backdrop_path': '/zuW6fOiusv4X9nnW3paHGfXcSll.jpg'},\n",
       " 'budget': 220000000,\n",
       " 'genres': [{'id': 878, 'name': 'Science Fiction'},\n",
       "  {'id': 28, 'name': 'Action'},\n",
       "  {'id': 12, 'name': 'Adventure'}],\n",
       " 'homepage': 'https://www.marvel.com/movies/the-avengers',\n",
       " 'id': 24428,\n",
       " 'imdb_id': 'tt0848228',\n",
       " 'original_language': 'en',\n",
       " 'original_title': 'The Avengers',\n",
       " 'overview': 'When an unexpected enemy emerges and threatens global safety and security, Nick Fury, director of the international peacekeeping agency known as S.H.I.E.L.D., finds himself in need of a team to pull the world back from the brink of disaster. Spanning the globe, a daring recruitment effort begins!',\n",
       " 'popularity': 97.857,\n",
       " 'poster_path': '/RYMX2wcKCBAr24UyPD7xwmjaTn.jpg',\n",
       " 'production_companies': [{'id': 420,\n",
       "   'logo_path': '/hUzeosd33nzE5MCNsZxCGEKTXaQ.png',\n",
       "   'name': 'Marvel Studios',\n",
       "   'origin_country': 'US'}],\n",
       " 'production_countries': [{'iso_3166_1': 'US',\n",
       "   'name': 'United States of America'}],\n",
       " 'release_date': '2012-04-25',\n",
       " 'revenue': 1518815515,\n",
       " 'runtime': 143,\n",
       " 'spoken_languages': [{'english_name': 'English',\n",
       "   'iso_639_1': 'en',\n",
       "   'name': 'English'},\n",
       "  {'english_name': 'Hindi', 'iso_639_1': 'hi', 'name': 'हिन्दी'},\n",
       "  {'english_name': 'Russian', 'iso_639_1': 'ru', 'name': 'Pусский'}],\n",
       " 'status': 'Released',\n",
       " 'tagline': 'Some assembly required.',\n",
       " 'title': 'The Avengers',\n",
       " 'video': False,\n",
       " 'vote_average': 7.71,\n",
       " 'vote_count': 29163,\n",
       " 'certification': 'PG-13'}"
      ]
     },
     "execution_count": 40,
     "metadata": {},
     "output_type": "execute_result"
    }
   ],
   "source": [
    "test = get_movie_with_rating(\"tt0848228\")\n",
    "test"
   ]
  },
  {
   "cell_type": "code",
   "execution_count": 41,
   "id": "2f1a1995-0eda-4c9e-9514-5800e7d27a69",
   "metadata": {},
   "outputs": [
    {
     "data": {
      "text/plain": [
       "['.ipynb_checkpoints',\n",
       " 'final_tmdb_data_2000.csv.gz',\n",
       " 'final_tmdb_data_2001.csv.gz',\n",
       " 'title-akas-us-only.csv',\n",
       " 'title.basics.tsv.gz',\n",
       " 'title.ratings.tsv.gz',\n",
       " 'title_basics.csv.gz',\n",
       " 'title_ratings.csv.gz',\n",
       " 'tmdb_api_results_2000.json',\n",
       " 'tmdb_api_results_2001.json']"
      ]
     },
     "execution_count": 41,
     "metadata": {},
     "output_type": "execute_result"
    }
   ],
   "source": [
    "# Define the folder path where you want to save JSON files\n",
    "FOLDER = \"Data/\"\n",
    "os.makedirs(FOLDER, exist_ok=True)\n",
    "os.listdir(FOLDER)"
   ]
  },
  {
   "cell_type": "code",
   "execution_count": 42,
   "id": "82163d3a-a528-4a80-9760-8f153b11d50d",
   "metadata": {},
   "outputs": [],
   "source": [
    "# Process data for each year sequentially\n",
    "YEARS_TO_GET = [2000, 2001]    "
   ]
  },
  {
   "cell_type": "code",
   "execution_count": 43,
   "id": "6cd23584-05d2-4f20-a31b-dd70ebd3214f",
   "metadata": {},
   "outputs": [],
   "source": [
    "# YEAR = 2000"
   ]
  },
  {
   "cell_type": "code",
   "execution_count": 44,
   "id": "41733238-f69b-4c85-8c7a-b98a5389fa8f",
   "metadata": {},
   "outputs": [
    {
     "data": {
      "text/html": [
       "<div>\n",
       "<style scoped>\n",
       "    .dataframe tbody tr th:only-of-type {\n",
       "        vertical-align: middle;\n",
       "    }\n",
       "\n",
       "    .dataframe tbody tr th {\n",
       "        vertical-align: top;\n",
       "    }\n",
       "\n",
       "    .dataframe thead th {\n",
       "        text-align: right;\n",
       "    }\n",
       "</style>\n",
       "<table border=\"1\" class=\"dataframe\">\n",
       "  <thead>\n",
       "    <tr style=\"text-align: right;\">\n",
       "      <th></th>\n",
       "      <th>tconst</th>\n",
       "      <th>titleType</th>\n",
       "      <th>primaryTitle</th>\n",
       "      <th>originalTitle</th>\n",
       "      <th>isAdult</th>\n",
       "      <th>startYear</th>\n",
       "      <th>endYear</th>\n",
       "      <th>runtimeMinutes</th>\n",
       "      <th>genres</th>\n",
       "    </tr>\n",
       "  </thead>\n",
       "  <tbody>\n",
       "    <tr>\n",
       "      <th>0</th>\n",
       "      <td>tt0035423</td>\n",
       "      <td>movie</td>\n",
       "      <td>Kate &amp; Leopold</td>\n",
       "      <td>Kate &amp; Leopold</td>\n",
       "      <td>0</td>\n",
       "      <td>2001.0</td>\n",
       "      <td>NaN</td>\n",
       "      <td>118</td>\n",
       "      <td>Comedy,Fantasy,Romance</td>\n",
       "    </tr>\n",
       "    <tr>\n",
       "      <th>1</th>\n",
       "      <td>tt0062336</td>\n",
       "      <td>movie</td>\n",
       "      <td>The Tango of the Widower and Its Distorting Mi...</td>\n",
       "      <td>El tango del viudo y su espejo deformante</td>\n",
       "      <td>0</td>\n",
       "      <td>2020.0</td>\n",
       "      <td>NaN</td>\n",
       "      <td>70</td>\n",
       "      <td>Drama</td>\n",
       "    </tr>\n",
       "    <tr>\n",
       "      <th>2</th>\n",
       "      <td>tt0068865</td>\n",
       "      <td>movie</td>\n",
       "      <td>Lives of Performers</td>\n",
       "      <td>Lives of Performers</td>\n",
       "      <td>0</td>\n",
       "      <td>2016.0</td>\n",
       "      <td>NaN</td>\n",
       "      <td>90</td>\n",
       "      <td>Drama</td>\n",
       "    </tr>\n",
       "    <tr>\n",
       "      <th>3</th>\n",
       "      <td>tt0069049</td>\n",
       "      <td>movie</td>\n",
       "      <td>The Other Side of the Wind</td>\n",
       "      <td>The Other Side of the Wind</td>\n",
       "      <td>0</td>\n",
       "      <td>2018.0</td>\n",
       "      <td>NaN</td>\n",
       "      <td>122</td>\n",
       "      <td>Drama</td>\n",
       "    </tr>\n",
       "    <tr>\n",
       "      <th>4</th>\n",
       "      <td>tt0088751</td>\n",
       "      <td>movie</td>\n",
       "      <td>The Naked Monster</td>\n",
       "      <td>The Naked Monster</td>\n",
       "      <td>0</td>\n",
       "      <td>2005.0</td>\n",
       "      <td>NaN</td>\n",
       "      <td>100</td>\n",
       "      <td>Comedy,Horror,Sci-Fi</td>\n",
       "    </tr>\n",
       "  </tbody>\n",
       "</table>\n",
       "</div>"
      ],
      "text/plain": [
       "      tconst titleType                                       primaryTitle  \\\n",
       "0  tt0035423     movie                                     Kate & Leopold   \n",
       "1  tt0062336     movie  The Tango of the Widower and Its Distorting Mi...   \n",
       "2  tt0068865     movie                                Lives of Performers   \n",
       "3  tt0069049     movie                         The Other Side of the Wind   \n",
       "4  tt0088751     movie                                  The Naked Monster   \n",
       "\n",
       "                               originalTitle  isAdult  startYear  endYear  \\\n",
       "0                             Kate & Leopold        0     2001.0      NaN   \n",
       "1  El tango del viudo y su espejo deformante        0     2020.0      NaN   \n",
       "2                        Lives of Performers        0     2016.0      NaN   \n",
       "3                 The Other Side of the Wind        0     2018.0      NaN   \n",
       "4                          The Naked Monster        0     2005.0      NaN   \n",
       "\n",
       "   runtimeMinutes                  genres  \n",
       "0             118  Comedy,Fantasy,Romance  \n",
       "1              70                   Drama  \n",
       "2              90                   Drama  \n",
       "3             122                   Drama  \n",
       "4             100    Comedy,Horror,Sci-Fi  "
      ]
     },
     "execution_count": 44,
     "metadata": {},
     "output_type": "execute_result"
    }
   ],
   "source": [
    "basics = pd.read_csv('Data/title_basics.csv.gz')\n",
    "basics.head()"
   ]
  },
  {
   "cell_type": "code",
   "execution_count": 45,
   "id": "facc5849-9e4d-45fc-bb08-81b56557c16a",
   "metadata": {},
   "outputs": [],
   "source": [
    "def write_json(new_data, filename):\n",
    "    \"\"\"Adapted from: https://www.geeksforgeeks.org/append-to-json-file-using-python/\"\"\"\n",
    "    with open(filename, 'r+') as file:\n",
    "        # First we load existing data into a dict.\n",
    "        file_data = json.load(file)\n",
    "        # Choose extend or append\n",
    "        if (type(new_data) == list) & (type(file_data) == list):\n",
    "            file_data.extend(new_data)\n",
    "        else:\n",
    "            file_data.append(new_data)\n",
    "        # Sets file's current position at offset\n",
    "        file.seek(0)\n",
    "        # COnvert back to json.\n",
    "        json.dump(file_data, file)"
   ]
  },
  {
   "cell_type": "code",
   "execution_count": 46,
   "id": "8bdb3fb4-894e-4a3e-b92b-c4f0ec7dc8b7",
   "metadata": {},
   "outputs": [
    {
     "data": {
      "application/vnd.jupyter.widget-view+json": {
       "model_id": "28eb691b8fa4491885f6605358004f61",
       "version_major": 2,
       "version_minor": 0
      },
      "text/plain": [
       "YEARS:   0%|          | 0/2 [00:00<?, ?it/s]"
      ]
     },
     "metadata": {},
     "output_type": "display_data"
    },
    {
     "data": {
      "application/vnd.jupyter.widget-view+json": {
       "model_id": "e429227090ba4e7eb0f860461a6eff4a",
       "version_major": 2,
       "version_minor": 0
      },
      "text/plain": [
       "Movies from 2000:   0%|          | 0/1272 [00:00<?, ?it/s]"
      ]
     },
     "metadata": {},
     "output_type": "display_data"
    },
    {
     "data": {
      "application/vnd.jupyter.widget-view+json": {
       "model_id": "0ac9cf1360c147fda327f4572390d044",
       "version_major": 2,
       "version_minor": 0
      },
      "text/plain": [
       "Movies from 2001:   0%|          | 0/1933 [00:00<?, ?it/s]"
      ]
     },
     "metadata": {},
     "output_type": "display_data"
    }
   ],
   "source": [
    "# Start of OUTER loop\n",
    "for YEAR in tqdm_notebook(YEARS_TO_GET, desc='YEARS', position=0):\n",
    "    # Defining the JSON file to store results for the year\n",
    "    JSON_FILE = f'{FOLDER}tmdb_api_results_{YEAR}.json'\n",
    "    # Check if file exists\n",
    "    file_exists = os.path.isfile(JSON_FILE)\n",
    "\n",
    "    # If it does not exist: create it\n",
    "    if file_exists == False:\n",
    "        # save an empty dict with just \"imdb_id\" to the new json file.\n",
    "        with open(JSON_FILE,'w') as f:\n",
    "            json.dump([{'imdb_id': 0}],f)\n",
    "\n",
    "\n",
    "    # Saving new year as the current df\n",
    "    df = basics.loc[basics['startYear'] == YEAR].copy()\n",
    "\n",
    "    # Saving movie ids to list\n",
    "    movie_ids = df['tconst'].copy()\n",
    "    movie_ids\n",
    "\n",
    "    # Load existing data from json into a dataframe called \"previous_df\"\n",
    "    previous_df = pd.read_json(JSON_FILE)\n",
    "    previous_df\n",
    "\n",
    "    # Filter out any ids that are already in the JSON_FILE\n",
    "    movie_ids_to_get = movie_ids[~movie_ids.isin(previous_df['imdb_id'])]\n",
    "\n",
    "    #Get index and movie id from list\n",
    "    # INNER Loop\n",
    "    for movie_id in tqdm_notebook(movie_ids_to_get,\n",
    "                                    desc=f'Movies from {YEAR}',\n",
    "                                    position=1,\n",
    "                                    leave=True):\n",
    "        try:\n",
    "            # Retrieve then data for the movie id\n",
    "            temp = get_movie_with_rating(movie_id)  \n",
    "            # Append/extend results to existing file using a pre-made function\n",
    "            write_json(temp,JSON_FILE)\n",
    "            # Short 20 ms sleep to prevent overwhelming server\n",
    "            time.sleep(0.02)\n",
    "        # If it fails, make a dict with just the id and Name for certification.\n",
    "        except Exception as e:\n",
    "            continue\n",
    "\n",
    "    final_year_df = pd.read_json(JSON_FILE)\n",
    "    final_year_df.to_csv(f\"{FOLDER}final_tmdb_data_{YEAR}.csv.gz\", compression=\"gzip\", index=False)"
   ]
  },
  {
   "cell_type": "code",
   "execution_count": 47,
   "id": "49578a39-4aef-4d4b-824a-aa6e98395ab6",
   "metadata": {},
   "outputs": [
    {
     "data": {
      "text/html": [
       "<div>\n",
       "<style scoped>\n",
       "    .dataframe tbody tr th:only-of-type {\n",
       "        vertical-align: middle;\n",
       "    }\n",
       "\n",
       "    .dataframe tbody tr th {\n",
       "        vertical-align: top;\n",
       "    }\n",
       "\n",
       "    .dataframe thead th {\n",
       "        text-align: right;\n",
       "    }\n",
       "</style>\n",
       "<table border=\"1\" class=\"dataframe\">\n",
       "  <thead>\n",
       "    <tr style=\"text-align: right;\">\n",
       "      <th></th>\n",
       "      <th>adult</th>\n",
       "      <th>backdrop_path</th>\n",
       "      <th>belongs_to_collection</th>\n",
       "      <th>budget</th>\n",
       "      <th>genres</th>\n",
       "      <th>homepage</th>\n",
       "      <th>id</th>\n",
       "      <th>imdb_id</th>\n",
       "      <th>original_language</th>\n",
       "      <th>original_title</th>\n",
       "      <th>...</th>\n",
       "      <th>revenue</th>\n",
       "      <th>runtime</th>\n",
       "      <th>spoken_languages</th>\n",
       "      <th>status</th>\n",
       "      <th>tagline</th>\n",
       "      <th>title</th>\n",
       "      <th>video</th>\n",
       "      <th>vote_average</th>\n",
       "      <th>vote_count</th>\n",
       "      <th>certification</th>\n",
       "    </tr>\n",
       "  </thead>\n",
       "  <tbody>\n",
       "    <tr>\n",
       "      <th>0</th>\n",
       "      <td>False</td>\n",
       "      <td>/9BBTo63ANSmhC4e6r62OJFuK2GL.jpg</td>\n",
       "      <td>{'id': 86311, 'name': 'The Avengers Collection...</td>\n",
       "      <td>220000000</td>\n",
       "      <td>[{'id': 878, 'name': 'Science Fiction'}, {'id'...</td>\n",
       "      <td>https://www.marvel.com/movies/the-avengers</td>\n",
       "      <td>24428</td>\n",
       "      <td>tt0848228</td>\n",
       "      <td>en</td>\n",
       "      <td>The Avengers</td>\n",
       "      <td>...</td>\n",
       "      <td>1518815515</td>\n",
       "      <td>143</td>\n",
       "      <td>[{'english_name': 'English', 'iso_639_1': 'en'...</td>\n",
       "      <td>Released</td>\n",
       "      <td>Some assembly required.</td>\n",
       "      <td>The Avengers</td>\n",
       "      <td>False</td>\n",
       "      <td>7.71</td>\n",
       "      <td>29163</td>\n",
       "      <td>PG-13</td>\n",
       "    </tr>\n",
       "    <tr>\n",
       "      <th>1</th>\n",
       "      <td>False</td>\n",
       "      <td>/qom1SZSENdmHFNZBXbtJAU0WTlC.jpg</td>\n",
       "      <td>None</td>\n",
       "      <td>29000000</td>\n",
       "      <td>[{'id': 10749, 'name': 'Romance'}, {'id': 18, ...</td>\n",
       "      <td>http://www.newline.com/properties/notebookthe....</td>\n",
       "      <td>11036</td>\n",
       "      <td>tt0332280</td>\n",
       "      <td>en</td>\n",
       "      <td>The Notebook</td>\n",
       "      <td>...</td>\n",
       "      <td>115603229</td>\n",
       "      <td>123</td>\n",
       "      <td>[{'english_name': 'English', 'iso_639_1': 'en'...</td>\n",
       "      <td>Released</td>\n",
       "      <td>Behind every great love is a great story.</td>\n",
       "      <td>The Notebook</td>\n",
       "      <td>False</td>\n",
       "      <td>7.88</td>\n",
       "      <td>10628</td>\n",
       "      <td>PG-13</td>\n",
       "    </tr>\n",
       "  </tbody>\n",
       "</table>\n",
       "<p>2 rows × 26 columns</p>\n",
       "</div>"
      ],
      "text/plain": [
       "   adult                     backdrop_path  \\\n",
       "0  False  /9BBTo63ANSmhC4e6r62OJFuK2GL.jpg   \n",
       "1  False  /qom1SZSENdmHFNZBXbtJAU0WTlC.jpg   \n",
       "\n",
       "                               belongs_to_collection     budget  \\\n",
       "0  {'id': 86311, 'name': 'The Avengers Collection...  220000000   \n",
       "1                                               None   29000000   \n",
       "\n",
       "                                              genres  \\\n",
       "0  [{'id': 878, 'name': 'Science Fiction'}, {'id'...   \n",
       "1  [{'id': 10749, 'name': 'Romance'}, {'id': 18, ...   \n",
       "\n",
       "                                            homepage     id    imdb_id  \\\n",
       "0         https://www.marvel.com/movies/the-avengers  24428  tt0848228   \n",
       "1  http://www.newline.com/properties/notebookthe....  11036  tt0332280   \n",
       "\n",
       "  original_language original_title  ...     revenue  runtime  \\\n",
       "0                en   The Avengers  ...  1518815515      143   \n",
       "1                en   The Notebook  ...   115603229      123   \n",
       "\n",
       "                                    spoken_languages    status  \\\n",
       "0  [{'english_name': 'English', 'iso_639_1': 'en'...  Released   \n",
       "1  [{'english_name': 'English', 'iso_639_1': 'en'...  Released   \n",
       "\n",
       "                                     tagline         title  video  \\\n",
       "0                    Some assembly required.  The Avengers  False   \n",
       "1  Behind every great love is a great story.  The Notebook  False   \n",
       "\n",
       "   vote_average vote_count certification  \n",
       "0          7.71      29163         PG-13  \n",
       "1          7.88      10628         PG-13  \n",
       "\n",
       "[2 rows x 26 columns]"
      ]
     },
     "execution_count": 47,
     "metadata": {},
     "output_type": "execute_result"
    }
   ],
   "source": [
    "# Testing our function by looping through a list of ids\n",
    "test_ids = [\"tt0848228\", \"tt0332280\"]\n",
    "results = []\n",
    "for movie_id in test_ids:\n",
    "    try:\n",
    "        movie_info = get_movie_with_rating(movie_id)\n",
    "        results.append(movie_info)\n",
    "    except:\n",
    "        pass\n",
    "\n",
    "pd.DataFrame(results)"
   ]
  }
 ],
 "metadata": {
  "kernelspec": {
   "display_name": "Python 3 (ipykernel)",
   "language": "python",
   "name": "python3"
  },
  "language_info": {
   "codemirror_mode": {
    "name": "ipython",
    "version": 3
   },
   "file_extension": ".py",
   "mimetype": "text/x-python",
   "name": "python",
   "nbconvert_exporter": "python",
   "pygments_lexer": "ipython3",
   "version": "3.10.10"
  },
  "widgets": {
   "application/vnd.jupyter.widget-state+json": {
    "state": {},
    "version_major": 2,
    "version_minor": 0
   }
  }
 },
 "nbformat": 4,
 "nbformat_minor": 5
}
